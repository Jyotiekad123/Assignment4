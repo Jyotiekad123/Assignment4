{
 "cells": [
  {
   "cell_type": "markdown",
   "id": "dedicated-implement",
   "metadata": {},
   "source": [
    "# que2)"
   ]
  },
  {
   "cell_type": "code",
   "execution_count": 1,
   "id": "exceptional-married",
   "metadata": {},
   "outputs": [
    {
     "name": "stdout",
     "output_type": "stream",
     "text": [
      "Enter 1st number4\n",
      "Enter 2nd number7\n",
      "The sum of 4 and 7 is 11.0\n"
     ]
    }
   ],
   "source": [
    "num1 = input(\"Enter 1st number\")\n",
    "num2 = input(\"Enter 2nd number\")\n",
    "\n",
    "sum = float(num1) + float(num2)\n",
    "\n",
    "print(\"The sum of {0} and {1} is {2}\".format(num1, num2, sum ))"
   ]
  },
  {
   "cell_type": "markdown",
   "id": "immediate-index",
   "metadata": {},
   "source": [
    "# que3)"
   ]
  },
  {
   "cell_type": "code",
   "execution_count": 2,
   "id": "veterinary-boxing",
   "metadata": {},
   "outputs": [
    {
     "name": "stdout",
     "output_type": "stream",
     "text": [
      "The value of x after swapping : 10\n",
      "The value of y after swapping : 5\n"
     ]
    }
   ],
   "source": [
    "x= 5\n",
    "y=10\n",
    "\n",
    "temp = x\n",
    "x = y\n",
    "y = temp\n",
    "\n",
    "print(\"The value of x after swapping : {}\".format(x))\n",
    "print(\"The value of y after swapping : {}\".format(y))"
   ]
  },
  {
   "cell_type": "markdown",
   "id": "behind-viking",
   "metadata": {},
   "source": [
    "# que1)"
   ]
  },
  {
   "cell_type": "code",
   "execution_count": 3,
   "id": "arctic-spending",
   "metadata": {},
   "outputs": [
    {
     "name": "stdout",
     "output_type": "stream",
     "text": [
      "\n",
      "1\n",
      "22\n",
      "333\n",
      "4444\n",
      "55555\n"
     ]
    }
   ],
   "source": [
    "for i in range(6):\n",
    "    print(str(i) * i)"
   ]
  },
  {
   "cell_type": "code",
   "execution_count": null,
   "id": "touched-service",
   "metadata": {},
   "outputs": [],
   "source": []
  }
 ],
 "metadata": {
  "kernelspec": {
   "display_name": "Python 3",
   "language": "python",
   "name": "python3"
  },
  "language_info": {
   "codemirror_mode": {
    "name": "ipython",
    "version": 3
   },
   "file_extension": ".py",
   "mimetype": "text/x-python",
   "name": "python",
   "nbconvert_exporter": "python",
   "pygments_lexer": "ipython3",
   "version": "3.9.0"
  }
 },
 "nbformat": 4,
 "nbformat_minor": 5
}
